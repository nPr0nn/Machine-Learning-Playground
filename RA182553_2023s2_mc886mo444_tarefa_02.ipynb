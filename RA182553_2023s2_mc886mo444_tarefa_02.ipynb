{
  "cells": [
    {
      "cell_type": "markdown",
      "metadata": {
        "id": "view-in-github",
        "colab_type": "text"
      },
      "source": [
        "<a href=\"https://colab.research.google.com/github/nPr0nn/Machine-Learning-Playground/blob/main/RA182553_2023s2_mc886mo444_tarefa_02.ipynb\" target=\"_parent\"><img src=\"https://colab.research.google.com/assets/colab-badge.svg\" alt=\"Open In Colab\"/></a>"
      ]
    },
    {
      "cell_type": "markdown",
      "metadata": {
        "id": "Cs9E_R5yD48u"
      },
      "source": [
        "# **Tarefa \\#2**:  Aprendizado de Máquina e Reconhecimento de Padrões MC886/MO444\n",
        "Instituto de Computação (IC/UNICAMP), 2o Semestre, 2023\n",
        "\n",
        "Profa. Sandra Avila, 2023s2\n",
        "\n"
      ]
    },
    {
      "cell_type": "code",
      "execution_count": null,
      "metadata": {
        "id": "tFS9Oum_RJX9"
      },
      "outputs": [],
      "source": [
        "# TODO: RA & Nome\n",
        "print('RA1: ' + 'Nome_completo_1')\n",
        "print('RA2: ' + 'Nome_completo_2')"
      ]
    },
    {
      "cell_type": "markdown",
      "metadata": {
        "id": "IVGH2s7fD_03"
      },
      "source": [
        "## Objetivo\n",
        "\n",
        "Explore os modelos de **regressão linear** e **regressão logística** e apresente o melhor modelo que você encontrar para os problemas, evitando o *overfitting*. Em particular, realize predições acerca do desempenho de alunos de escolas públicas do estado de São Paulo com base em dados socioeconômicos do SARESP (Sistema de Avaliação de Desempenho Escolar do Estado de São Paulo) 2021.\n"
      ]
    },
    {
      "cell_type": "markdown",
      "source": [
        "### Dataset\n",
        "\n",
        "O conjunto de dados foi criado a partir de dados públicos disponibilizados no [Portal de Dados Abertos da Secretaria da Educação do Estado de São Paulo](https://dados.educacao.sp.gov.br/). O conjunto de dados é baseado em duas fontes de dados: [Questionários SARESP](https://dados.educacao.sp.gov.br/dataset/question%C3%A1rios-saresp) e [Proficiência do SARESP por escola](https://dados.educacao.sp.gov.br/dataset/profici%C3%AAncia-do-sistema-de-avalia%C3%A7%C3%A3o-de-rendimento-escolar-do-estado-de-s%C3%A3o-paulo-saresp-por), realizado em 2021 com alunos do 5º e 9º ano do Ensino Fundamental e 3º ano do Ensino Médio. O questionário contém 63 questões socioeconômicas e está disponível no [link](https://dados.educacao.sp.gov.br/sites/default/files/Saresp_Quest_2021_Perguntas_Alunos.pdf), e a prova é composta por questões de Português e Matemática.\n",
        "\n",
        "\n",
        "**Dicionário de dados**:\n",
        "\n",
        "- **CD_ALUNO**: Registro de Estudante;\n",
        "\n",
        "- **CODESC**: Identificação Escolar;\n",
        "\n",
        "- **NOMESC**: Nome da Escola;\n",
        "\n",
        "- **RegiaoMetropolitana**: Região Metropolitana;\n",
        "\n",
        "- **CODMUN**: ID do município;\n",
        "\n",
        "- **MUN**: Nome da cidade;\n",
        "\n",
        "- **SERIE_ANO**: Série/Ano escolar\n",
        "\n",
        "- **TURMA**: Turma;\n",
        "\n",
        "- **TP_SEXO**: Sexo (Feminino/Masculino);\n",
        "\n",
        "- **DT_NASCIMENTO**: Data de Nascimento;\n",
        "\n",
        "- **PERÍODO**: Período de estudo (manhã, tarde, noite);\n",
        "\n",
        "- **Tem_Nec**: Se a(o) estudante possui alguma necessidade especial (1 = sim, 0 = não);\n",
        "\n",
        "- **NEC_ESP_1** - **NEC_ESP_5**: Qual o tipo da deficiência da(o) estudante;\n",
        "\n",
        "- **QN**: Resposta da(o) estudante à questão N (N= 9, ... , 63), ver questões no [questionário](https://dados.educacao.sp.gov.br/sites/default/files/Saresp_Quest_2021_Perguntas_Alunos.pdf);\n",
        "\n",
        "- **porc_ACERT_lp**: Porcentagem de acertos na prova de Português;\n",
        "\n",
        "- **porc_ACERT_MAT**: Porcentagem de acertos na prova de Matemática;\n",
        "\n",
        "- **nivel_profic_lp**: Nível de proficiência na prova de Português;\n",
        "\n",
        "- **nivel_profic_mat**: Nível de proficiência na prova de Matemática;\n",
        "\n",
        "--------------------------\n",
        "Você deve respeitar a seguinte divisão de treino/teste:\n",
        "\n",
        "- SARESP_train.csv\n",
        "- SARESP_test.csv\n",
        "\n",
        "**Lembre-se de criar seu próprio conjunto de validação (que NÃO PODE SER O TESTE)**"
      ],
      "metadata": {
        "id": "wrJJ65KSqf9X"
      }
    },
    {
      "cell_type": "markdown",
      "source": [
        "## Regressão linear\n",
        "\n",
        "Esta parte do trabalho visa prever o desempenho dos alunos em provas de Portuguêsm e Matemática (valores-alvo: `porc_ACERT_lp` e `porc_ACERT_MAT`) com base em seus dados socioeconômicos. Então, neste ponto, você deve **remover as colunas `nivel_profic_lp`** e **`nivel_profic_mat`**"
      ],
      "metadata": {
        "id": "6DRXBN12vcgo"
      }
    },
    {
      "cell_type": "markdown",
      "source": [
        "### Atividades\n",
        "\n",
        "\n",
        "0. (1,0 pontos) Antes de iniciarmos um projeto de ML, fazemos sempre uma breve análise exploratória :D\n",
        "\n",
        "Alguns fatores a serem considerados: Existem outliers? Há valores ausentes? Como você lidará com variáveis categóricas? Existem atributos com baixa correlação com as variáveis alvo? O que acontece se você removê-los?"
      ],
      "metadata": {
        "id": "ZotWFXqfv60U"
      }
    },
    {
      "cell_type": "code",
      "execution_count": null,
      "metadata": {
        "id": "3y0QxxH1KgE1"
      },
      "outputs": [],
      "source": [
        "# TODO: Carregue e pré-processe os dados\n",
        "\n",
        "#import numpy as np\n",
        "#import pandas as pd\n",
        "#import matplotlib.pyplot as plt\n",
        "#import seaborn as sns\n",
        "#%matplotlib inline\n",
        "\n",
        "#df=pd.read_csv(\"train.csv\")"
      ]
    },
    {
      "cell_type": "markdown",
      "source": [
        "1. (2,0 pontos) Execute a regressão linear. Você deve implementar sua própria solução e compará-la com ```sklearn.linear_model.SGDRegressor``` (modelo linear treinado minimizando uma função de custo regularizada com SGD, http://scikit-learn.org). Lembre-se de que amigues não permitem que amigues usem dados de teste para treinamento :-)"
      ],
      "metadata": {
        "id": "QvbkTpxcHkHT"
      }
    },
    {
      "cell_type": "code",
      "execution_count": null,
      "metadata": {
        "id": "D9cpdif9JxFR"
      },
      "outputs": [],
      "source": [
        "# TODO: Regressão Linear. Implemente sua solução. Você não pode usar bibliotecas como scikit-learn, Keras/TensorFlow, ou PyTorch."
      ]
    },
    {
      "cell_type": "code",
      "execution_count": null,
      "metadata": {
        "id": "e4nZrMr_C2X7"
      },
      "outputs": [],
      "source": [
        "# TODO: Regressão Linear. Faça a regressão novamente, agora utilizando o sklearn.linear_model.SGDRegressor"
      ]
    },
    {
      "cell_type": "markdown",
      "metadata": {
        "id": "zBNZQNImKQeo"
      },
      "source": [
        "\n",
        "> Quais foram suas conclusões? (1-2 parágrafos)\n",
        "\n",
        "\n"
      ]
    },
    {
      "cell_type": "markdown",
      "metadata": {
        "id": "ADxPBRhuK_Vq"
      },
      "source": [
        "2. (1,0 ponto) Experiemente diferentes *learning rates* para a descida de gradiente (GD). Compare as soluções baseadas em GD com a equação normal. Quais são as conclusões?"
      ]
    },
    {
      "cell_type": "code",
      "execution_count": null,
      "metadata": {
        "id": "RSZ1pLItNVbU"
      },
      "outputs": [],
      "source": [
        "# TODO: Descida do gradiente (GD) com 3 diferentes learning rates. Está liberado utilizar scikit-learn."
      ]
    },
    {
      "cell_type": "markdown",
      "metadata": {
        "id": "XrPl7jKgJPW6"
      },
      "source": [
        "3. (1,0 ponto) Às vezes, precisamos de alguma função mais complexa para fazer uma boa predição. Elabore e avalie um modelo de Regressão Polinomial."
      ]
    },
    {
      "cell_type": "code",
      "execution_count": null,
      "metadata": {
        "id": "GjGbg41PMHR9"
      },
      "outputs": [],
      "source": [
        "# TODO: Regressão polinomial. Está liberado utilizar scikit-learn."
      ]
    },
    {
      "cell_type": "markdown",
      "metadata": {
        "id": "rBLKtosaLaCw"
      },
      "source": [
        "\n",
        " > Quais são as conclusões? Quais são as ações após a análise crítica dos resultados? (1-2 parágrafos)\n",
        "\n",
        "\n"
      ]
    },
    {
      "cell_type": "markdown",
      "metadata": {
        "id": "ldSh1vtWK5Zk"
      },
      "source": [
        "4. (0,5) Plote a função de custo vs. número de épocas no conjunto de treino e de validação."
      ]
    },
    {
      "cell_type": "code",
      "execution_count": null,
      "metadata": {
        "id": "mg7aNkl_LG4P"
      },
      "outputs": [],
      "source": [
        "# TODO: Plotar a função de custo vs. número de épocas no conjunto de treino e de validação.\n",
        "# Neste ponto, você pode ter dificuldade de realizar o plote pedido utilizando a biblioteca scikit-learn,\n",
        "# a sugestão é buscar outras bibliotecas, ou utilizando sua implementação e plotar a função de custo por época."
      ]
    },
    {
      "cell_type": "markdown",
      "metadata": {
        "id": "vbGOQzcsNSOm"
      },
      "source": [
        "> Quais foram suas conclusões? (1-2 parágrafos)\n"
      ]
    },
    {
      "cell_type": "markdown",
      "metadata": {
        "id": "8Xij-E5UUseS"
      },
      "source": [
        "5. (0,75 ponto) Escolha **seu melhor modelo**, com base em seu conjunto de validação, e realize predições os valores-alvo no conjunto de teste."
      ]
    },
    {
      "cell_type": "markdown",
      "metadata": {
        "id": "h_PobUahUseS"
      },
      "source": [
        "## Regressão Logística"
      ]
    },
    {
      "cell_type": "markdown",
      "metadata": {
        "id": "SCJuwjrAUseS"
      },
      "source": [
        "Esta parte do trabalho visa predizer o nível de proficiência dos alunos em Português e Matemática (valores-alvo: `nivel_profic_lp` e `nivel_profic_mat`) com base em seus dados socioeconômicos. Então, você deve **remover as colunas `porc_ACERT_lp`** e **`porc_ACERT_MAT`**"
      ]
    },
    {
      "cell_type": "markdown",
      "metadata": {
        "id": "joYtn8avUseS"
      },
      "source": [
        "### Atividades\n",
        "\n",
        "1. (2 pontos) Faça a regressão logística multinomial (_i.e._, regressão softmax). Ela é uma generalização da Regressão Logística para o caso em que queremos lidar com várias classes. Experimente diferentes combinações de atributos, descartando os menos correlacionados com as variáveis de destino."
      ]
    },
    {
      "cell_type": "code",
      "execution_count": null,
      "metadata": {
        "id": "-36Dt2V_UseT"
      },
      "outputs": [],
      "source": [
        "# TODO: Regressão logística multinomial. Está liberado utilizar scikit-learn."
      ]
    },
    {
      "cell_type": "markdown",
      "metadata": {
        "id": "WQj3oImUUseT"
      },
      "source": [
        "> Quais foram suas conclusões? (1-2 parágrafos)\n"
      ]
    },
    {
      "cell_type": "markdown",
      "metadata": {
        "id": "Lqlv9-6OUseT"
      },
      "source": [
        "2. (0,75 ponto) Escolha **seu melhor modelo** e plote a matriz de confusão no **conjunto de teste**."
      ]
    },
    {
      "cell_type": "code",
      "execution_count": null,
      "metadata": {
        "id": "-jdyJuS0UseT"
      },
      "outputs": [],
      "source": [
        "# TODO: Plote a matriz de confusão. Você pode usar as bibliotecas scikit-learn, seaborn, matplotlib, etc."
      ]
    },
    {
      "cell_type": "markdown",
      "metadata": {
        "id": "xAmCj0cpUseT"
      },
      "source": [
        "> Quais foram suas conclusões? (1-2 parágrafos)\n"
      ]
    },
    {
      "cell_type": "markdown",
      "source": [
        "3. (1,0 ponto) Escolha **seu melhor modelo** e faça predições sobre o nível de prociência em Português com base em dados socioeconômicos contidos no **conjunto de teste**. Submete suas predições para a competição [SARESP](https://www.kaggle.com/t/50748e7aaadd48ecb65eaf27c9bfd327) no Kaggle.\n",
        "\n",
        "----------\n",
        "\n",
        "#### Formato de envio\n",
        "\n",
        "**Para cada aluno no conjunto de teste**, os arquivos de envio devem conter duas colunas: `CD_ALUNO` e `PL_proficiency`. **`PL_proficiency` deve ser 0, 1, 2 ou 3**, significando \"Básico\", \"Adequado\", \"Abaixo do Básico\" e \"Avançado\", respectivamente.\n",
        "\n",
        "O arquivo deve conter um cabeçalho e ter o seguinte formato:\n",
        "```\n",
        "CD_ALUNO, PL_proficiency\n",
        "100011,1\n",
        "```\n",
        "\n",
        "[Exemplo de submissão](https://drive.google.com/file/d/1oTRjBLWe_pJBDaD99x3SqSUMt8GHsOxQ/view?usp=sharing)\n",
        "\n",
        "----------------\n",
        "\n",
        "\n",
        "> Conte para a gente! Qual foi o resultado que você obteve na competição? :)\n"
      ],
      "metadata": {
        "id": "n9A1gjOe9qe7"
      }
    },
    {
      "cell_type": "markdown",
      "metadata": {
        "id": "kdSGS4brHnAi"
      },
      "source": [
        "## Prazo\n",
        "\n",
        "07 de Setembro, 23:59.\n",
        "\n",
        "Política de penalidades por envio atrasado: Você não é encorajado a enviar sua tarefa após a data de entrega. No entanto, caso o faça, sua nota será penalizada da seguinte forma:\n",
        "- 08 de Setembro, 23:59 : nota * 0.75\n",
        "- 09 de Setembro, 23:59 : nota * 0.5\n",
        "- 10 de Setembro, 23:59 : nota * 0.25\n"
      ]
    },
    {
      "cell_type": "markdown",
      "metadata": {
        "id": "joN9pvZJIfW5"
      },
      "source": [
        "## Envio\n",
        "\n",
        "No Google Classroom, envie seu Jupyter Notebook, no formato RA1_RA2_2023s2_mc886mo444_tarefa_02.ipynb.\n",
        "\n",
        "**Esta atividade NÃO é individual, deve ser realizada em dupla (grupo de duas pessoas).**"
      ]
    }
  ],
  "metadata": {
    "accelerator": "GPU",
    "colab": {
      "provenance": [],
      "toc_visible": true,
      "include_colab_link": true
    },
    "kernelspec": {
      "display_name": "Python 3 (ipykernel)",
      "language": "python",
      "name": "python3"
    },
    "language_info": {
      "codemirror_mode": {
        "name": "ipython",
        "version": 3
      },
      "file_extension": ".py",
      "mimetype": "text/x-python",
      "name": "python",
      "nbconvert_exporter": "python",
      "pygments_lexer": "ipython3",
      "version": "3.9.12"
    }
  },
  "nbformat": 4,
  "nbformat_minor": 0
}